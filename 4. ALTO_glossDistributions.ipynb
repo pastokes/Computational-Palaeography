{
 "cells": [
  {
   "cell_type": "code",
   "execution_count": 1,
   "id": "a6856d5d-70f6-4e7b-a0f1-593191c034c3",
   "metadata": {},
   "outputs": [],
   "source": [
    "import os\n",
    "import xml.etree.ElementTree as ET"
   ]
  },
  {
   "cell_type": "code",
   "execution_count": 3,
   "id": "76d27048-c285-4ae1-abda-6f233371b708",
   "metadata": {},
   "outputs": [],
   "source": [
    "path=\"export_doc5445_cccc_178_alto_202505131407\""
   ]
  },
  {
   "cell_type": "code",
   "execution_count": 2,
   "id": "80da0948-3bf7-403e-a491-70a2cd4a510a",
   "metadata": {},
   "outputs": [],
   "source": [
    "def count_textline_elements(alto_xml_path):\n",
    "    # Parse the XML file\n",
    "    tree = ET.parse(alto_xml_path)\n",
    "    root = tree.getroot()\n",
    "    \n",
    "    # Define the namespace\n",
    "    namespace = {'alto': 'http://www.loc.gov/standards/alto/ns-v4#'}\n",
    "    \n",
    "    # Find all TextLine elements\n",
    "    textline_elements = root.findall('.//alto:TextLine', namespace)\n",
    "    \n",
    "    # Return the count of TextLine elements\n",
    "    return len(textline_elements)"
   ]
  },
  {
   "cell_type": "code",
   "execution_count": 4,
   "id": "4ce4cf00-ea82-451e-987d-4740fdf98577",
   "metadata": {},
   "outputs": [],
   "source": [
    "# No good, as this doesn't guarantee the correct order. We need to use the METS file instead\n",
    "def get_xml_files(folder_path):\n",
    "    files = os.listdir(folder_path)\n",
    "    \n",
    "    xml_files = [file for file in files if file.endswith('.xml')]\n",
    "\n",
    "    return xml_files"
   ]
  },
  {
   "cell_type": "code",
   "execution_count": 14,
   "id": "aa3779eb-cc3b-4721-98c9-5eab428567c3",
   "metadata": {},
   "outputs": [],
   "source": [
    "def get_files_from_mets(mets_xml_path):\n",
    "    tree = ET.parse(mets_xml_path)\n",
    "    root = tree.getroot()\n",
    "\n",
    "    # Define the namespace\n",
    "    ns_mets = {'mets': 'http://www.loc.gov/METS/'}\n",
    "\n",
    "    # Find all FLocat elements\n",
    "    flocat_elements = root.findall('.//mets:FLocat', ns_mets)\n",
    "    \n",
    "    # Iterate over FLocat elements and collect their attributes\n",
    "    # Could be much more pythony!\n",
    "    href_list = []\n",
    "\n",
    "    for flocat in flocat_elements:\n",
    "        href_list.append(flocat.get('{http://www.w3.org/1999/xlink}href'))\n",
    "\n",
    "    return href_list"
   ]
  },
  {
   "cell_type": "code",
   "execution_count": 16,
   "id": "c12e83f0-8ce8-4058-ac85-9bf9a90652b3",
   "metadata": {},
   "outputs": [],
   "source": [
    "countlist = []\n",
    "for f in get_files_from_mets(os.path.join(path, \"METS.xml\")):\n",
    "    countlist.append(count_textline_elements(os.path.join(path, f)))"
   ]
  },
  {
   "cell_type": "code",
   "execution_count": 17,
   "id": "303697b4-3921-4c32-a9db-ab536391de8c",
   "metadata": {},
   "outputs": [
    {
     "name": "stdout",
     "output_type": "stream",
     "text": [
      "[5, 7, 11, 8, 3, 3, 6, 5, 3, 11, 6, 6, 7, 12, 11, 7, 15, 5, 5, 3, 20, 6, 11, 17, 14, 13, 8, 7, 16, 7, 7, 10, 14, 12, 24, 7, 10, 8, 13, 11, 10, 14, 5, 9, 1, 7, 6, 5, 9, 10, 4, 5, 10, 8, 6, 7, 13, 7, 5, 11, 12, 11, 8, 14, 13, 10, 16, 20, 18, 10, 4, 10, 9, 4, 12, 7, 12, 15, 20, 22, 20, 4, 13, 10, 7, 17, 26, 16, 16, 17, 25, 17, 11, 12, 17, 13, 14, 11, 14, 8, 17, 11, 7, 9, 6, 18, 13, 17, 19, 17, 15, 15, 20, 0, 0, 0, 0, 0, 0, 0, 0, 0, 0, 0, 0, 0, 0, 0, 0, 0, 0, 0, 0, 0, 0, 0, 0, 0, 0, 0, 0, 0, 0, 0, 0, 0, 0, 0, 0, 0, 0, 0, 0, 0, 0, 0, 0, 0, 0, 0, 0, 0, 0, 0, 0, 0, 0, 0, 0, 0, 0, 0, 0, 0, 0, 0, 0, 0, 0, 0, 0, 0, 0, 0, 0, 0, 0, 0, 15, 12, 11, 12, 9, 11, 7, 6, 15, 4, 7, 7, 20, 13, 13, 7, 13, 10, 14, 11, 25, 19, 20, 15, 14, 15, 17, 16, 19, 7, 13, 12, 7, 15, 18, 16, 19, 16, 11, 4, 7, 4, 8, 2, 7, 10, 5, 12, 6, 7, 10, 8, 3, 9, 6, 14, 2, 9, 6, 5, 6, 8, 3, 6, 8, 15, 10, 14, 8, 14, 11, 9, 2, 3, 6, 10, 8, 6, 3, 4, 0, 2, 0, 1, 5, 45, 7, 1, 0, 1, 40, 35, 24, 44, 12, 13, 31, 1, 1, 32, 41, 27, 5, 23, 63, 22, 47, 6, 32, 14, 2, 28, 44, 18, 8, 44, 33, 18, 18, 11, 9, 17, 18, 24, 1, 17, 10, 1, 13, 9, 6, 10, 11, 8, 8, 7, 3, 12, 1, 0, 0, 1, 3, 2, 13, 12, 19, 17, 25, 16, 15, 18, 17, 7, 44, 7, 41, 18, 11, 13, 37, 21, 12, 30, 23, 11, 15, 16, 7, 11, 23, 1, 27, 4, 29, 4, 36, 2, 24, 11, 24, 3, 13, 34, 25, 11, 12, 9, 17, 17, 1, 11, 18, 43, 5, 47, 21, 7, 25, 1, 22, 45, 25, 14, 10, 0, 27, 40, 33, 8, 31, 0, 0, 21, 31, 21, 38, 3, 30, 5, 29, 0, 23, 34, 4, 35, 0, 9, 23, 27, 2, 5, 47, 46, 34, 0, 8, 25, 35, 6, 41, 18, 26, 31, 13, 16, 13, 17, 46, 8, 46, 0]\n"
     ]
    }
   ],
   "source": [
    "print(countlist)"
   ]
  }
 ],
 "metadata": {
  "kernelspec": {
   "display_name": "Python 3 (ipykernel)",
   "language": "python",
   "name": "python3"
  },
  "language_info": {
   "codemirror_mode": {
    "name": "ipython",
    "version": 3
   },
   "file_extension": ".py",
   "mimetype": "text/x-python",
   "name": "python",
   "nbconvert_exporter": "python",
   "pygments_lexer": "ipython3",
   "version": "3.12.8"
  }
 },
 "nbformat": 4,
 "nbformat_minor": 5
}
